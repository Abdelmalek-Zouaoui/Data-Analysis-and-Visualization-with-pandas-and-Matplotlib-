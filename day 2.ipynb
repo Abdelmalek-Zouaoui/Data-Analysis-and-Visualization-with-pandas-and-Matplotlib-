{
 "cells": [
  {
   "cell_type": "code",
   "execution_count": null,
   "metadata": {},
   "outputs": [],
   "source": [
    "import pandas as pd\n",
    "\n",
    "# Load the dataset (example: Iris dataset\n",
    "url = 'https://archive.ics.uci.edu/ml/machine-learning-databases/iris/iris.data'\n",
    "column_names = ['SepalLength', 'SepalWidth', 'PetalLength', 'PetalWidth', 'Species']\n",
    "df = pd.read_csv(url, names=column_names)\n",
    "\n",
    "# Check the first few rows of the dataset\n",
    "df.head()\n"
   ]
  },
  {
   "cell_type": "code",
   "execution_count": null,
   "metadata": {},
   "outputs": [],
   "source": [
    "# Overview of the dataset\n",
    "df.info()  #Provides details about column data types and missing values\n",
    "\n",
    "# Summary statistics\n",
    "df.describe()\n",
    "#Provides statistical summary (mean, min, max, etc.) for numerical columns"
   ]
  },
  {
   "cell_type": "code",
   "execution_count": null,
   "metadata": {},
   "outputs": [],
   "source": [
    "# Check for missing values\n",
    "df.isnull().sum()\n",
    "\n",
    "Iris['SepalLength'].fillna(Iris['SepalLength'].mean(), inplace=True)  # Fill missing values\n",
    "df.dropna(inplace=True) #remevo any rows that have at least one missing value form the dataframe "
   ]
  },
  {
   "cell_type": "code",
   "execution_count": null,
   "metadata": {},
   "outputs": [],
   "source": [
    "# Group by the species and calculate the mean for each feature\n",
    "grouped_data = df.groupby('Species').mean()\n",
    "\n",
    "print(grouped_data)\n"
   ]
  },
  {
   "cell_type": "code",
   "execution_count": null,
   "metadata": {},
   "outputs": [],
   "source": [
    "# Sort by SepalLength in descending order\n",
    "sorted_data = df.sort_values(by='SepalLength', ascending=False)\n",
    "# Filter rows where SepalLength is greater than 5.0\n",
    "filtered_data = df[df['SepalLength'] > 5.0]\n",
    "\n",
    "# Display the first few rows of the sorted and filtered data\n",
    "print(sorted_data.head())\n",
    "print(filtered_data.head())"
   ]
  },
  {
   "cell_type": "code",
   "execution_count": null,
   "metadata": {},
   "outputs": [],
   "source": [
    "import matplotlib.pyplot as plt\n",
    "\n",
    "# Line chart\n",
    "plt.plot(df['Score'])\n",
    "plt.title('Scores Over Time')\n",
    "plt.xlabel('Index')\n",
    "plt.ylabel('Score')\n",
    "plt.show()\n",
    " \n",
    "# Bar chart for categories\n",
    "df['Category'].value_counts().plot(kind='bar')\n",
    "plt.title('Category Distribution')\n",
    "plt.show()\n",
    "\n",
    "# Histogram for numerical data\n",
    "df['Score'].plot(kind='hist', bins=10)\n",
    "plt.title('Score Distribution')\n",
    "plt.show()\n"
   ]
  },
  {
   "cell_type": "code",
   "execution_count": null,
   "metadata": {},
   "outputs": [],
   "source": [
    "import seaborn as sns\n",
    "\n",
    "# Heatmap for correlation\n",
    "sns.heatmap(df.corr(), annot=True, cmap='coolwarm')\n",
    "plt.title('Correlation Heatmap')\n",
    "plt.show()\n"
   ]
  }
 ],
 "metadata": {
  "language_info": {
   "name": "python"
  }
 },
 "nbformat": 4,
 "nbformat_minor": 2
}
